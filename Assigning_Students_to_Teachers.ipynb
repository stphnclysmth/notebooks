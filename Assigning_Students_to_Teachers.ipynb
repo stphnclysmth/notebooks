{
  "nbformat": 4,
  "nbformat_minor": 0,
  "metadata": {
    "colab": {
      "private_outputs": true,
      "provenance": [],
      "toc_visible": true,
      "authorship_tag": "ABX9TyOlgsGLWuMFcraXT46hzIiy",
      "include_colab_link": true
    },
    "kernelspec": {
      "name": "python3",
      "display_name": "Python 3"
    },
    "language_info": {
      "name": "python"
    },
    "gpuClass": "standard"
  },
  "cells": [
    {
      "cell_type": "markdown",
      "metadata": {
        "id": "view-in-github",
        "colab_type": "text"
      },
      "source": [
        "<a href=\"https://colab.research.google.com/github/stphnclysmth/notebooks/blob/main/Assigning_Students_to_Teachers.ipynb\" target=\"_parent\"><img src=\"https://colab.research.google.com/assets/colab-badge.svg\" alt=\"Open In Colab\"/></a>"
      ]
    },
    {
      "cell_type": "markdown",
      "source": [
        "# Inputs"
      ],
      "metadata": {
        "id": "MFWDdkuY_Z8o"
      }
    },
    {
      "cell_type": "code",
      "source": [
        "student_addresses = [\n",
        "    ('Student 1', '3710 Pio Pico St, San Diego, CA, 92106'),\n",
        "    ('Student 2', '1600 PARADISE HILLS RD, SAN DIEGO, CA 92114-7883'),\n",
        "    ('Student 3', '1100 BEYER WAY, SAN DIEGO, CA 92154-4622'),\n",
        "    ('Student 4', '9900 PINEKNOLL LN, SAN DIEGO, CA 92124-1810'),\n",
        "    ('Student 5', '4716 Ladner St, San Diego, CA, 92113'),\n",
        "    ('Student 6', '4482 48TH ST APT 4, SAN DIEGO, CA 92115-4534'),\n",
        "    ('Student 7', '4505 LIMERICK AVE, SAN DIEGO, CA 92117-3219'),\n",
        "    ('Student 8', '12300 RAGWEED ST, SAN DIEGO, CA 92129-4107'),\n",
        "    ('Student 9', '9889 HIBERT ST, SAN DIEGO, CA 92131-1062'),\n",
        "    ('Student 10', '5000 COVE VIEW PL, SAN DIEGO, CA 92154-8447'),\n",
        "    ('Student 11', '3241 ISLAND AVE, SAN DIEGO, CA 92102-4245'),\n",
        "    ('Student 12', '8851 LA CINTURA CT, SAN DIEGO, CA 92129-3313'),\n",
        "    ('Student 13', '4336 W POINT LOMA BLVD, SAN DIEGO, CA 92107-1182'),\n",
        "    ('Student 14', '10378 SCRIPPS POWAY PKWY, SAN DIEGO, CA 92131-5126'),\n",
        "]\n",
        "\n",
        "teacher_addresses = [\n",
        "    ('Teacher 1', '2501 HALLER ST, SAN DIEGO, CA 92104-5330'),\n",
        "    ('Teacher 2', '701 ALBION ST, SAN DIEGO, CA 92106-3212'),\n",
        "    ('Teacher 3', '4480 JUTLAND DR, SAN DIEGO, CA 92117-3647'),\n",
        "]\n"
      ],
      "metadata": {
        "id": "0oSbcf2rcVga"
      },
      "execution_count": null,
      "outputs": []
    },
    {
      "cell_type": "markdown",
      "source": [
        "# Calculations"
      ],
      "metadata": {
        "id": "t22WomdJ_i5T"
      }
    },
    {
      "cell_type": "code",
      "source": [
        "!pip install folium geopy"
      ],
      "metadata": {
        "id": "qWFKDPUa9CSI"
      },
      "execution_count": null,
      "outputs": []
    },
    {
      "cell_type": "code",
      "source": [
        "import math\n",
        "import geopy\n",
        "from geopy.geocoders import Nominatim\n",
        "from geopy.exc import GeocoderTimedOut\n",
        "from collections import defaultdict\n",
        "from pprint import pprint\n",
        "\n",
        "geolocator = Nominatim(user_agent=\"student-address-geocoder\")\n",
        "\n",
        "from geopy.extra.rate_limiter import RateLimiter\n",
        "geocode = RateLimiter(geolocator.geocode, min_delay_seconds=1)\n",
        "\n",
        "# Convert an address to geographical coordinates using OpenStreetMap's Nominatim\n",
        "def address_to_coordinates(address):\n",
        "    try:\n",
        "        location = geocode(address, timeout=1000)\n",
        "    except GeocoderTimedOut:\n",
        "        return None\n",
        "\n",
        "    if location:\n",
        "        return location.latitude, location.longitude\n",
        "    else:\n",
        "        return None\n",
        "\n",
        "def people_addresses_to_people_coordinates(people_addresses):\n",
        "    people_coordinates = {}\n",
        "    for name, address in people_addresses:\n",
        "        coordinates = address_to_coordinates(address)\n",
        "        if coordinates:\n",
        "            people_coordinates[name] = coordinates\n",
        "        else:\n",
        "            print(f\"Unable to find coordinates for {name}'s address: [{address}]\")\n",
        "    return people_coordinates\n",
        "\n",
        "# You can use the Haversine formula to calculate the distance between two points \n",
        "# on Earth's surface, given their geographical coordinates (latitude and longitude). \n",
        "def haversine_distance(lat1, lon1, lat2, lon2):\n",
        "    R = 6371  # Earth radius in km\n",
        "\n",
        "    d_lat = math.radians(lat2 - lat1)\n",
        "    d_lon = math.radians(lon2 - lon1)\n",
        "\n",
        "    a = math.sin(d_lat / 2) * math.sin(d_lat / 2) + \\\n",
        "        math.cos(math.radians(lat1)) * math.cos(math.radians(lat2)) * \\\n",
        "        math.sin(d_lon / 2) * math.sin(d_lon / 2)\n",
        "    c = 2 * math.atan2(math.sqrt(a), math.sqrt(1 - a))\n",
        "\n",
        "    return R * c\n",
        "\n",
        "\n",
        "# Map students to the closest teacher using the Haversine distance formula\n",
        "def map_teachers_to_students(students, teachers, top_n_teachers=5, max_students_per_teacher=None):\n",
        "    top_n_teachers = min(top_n_teachers, len(teachers.items()))\n",
        "  \n",
        "    if max_students_per_teacher is None:\n",
        "        max_students_per_teacher = len(students) // len(teachers)\n",
        "        \n",
        "    teacher_student_map = {teacher_name: [] for teacher_name in teachers.keys()}\n",
        "    student_teacher_map = {}\n",
        "\n",
        "    for student_name, student_coordinates in students.items():\n",
        "        teacher_distances = []\n",
        "\n",
        "        for teacher_name, teacher_coordinates in teachers.items():\n",
        "            distance = haversine_distance(*student_coordinates, *teacher_coordinates)\n",
        "            teacher_distances.append((teacher_name, distance))\n",
        "\n",
        "        teacher_distances.sort(key=lambda x: x[1])\n",
        "\n",
        "        # Assign students to teachers with roughly equal distribution\n",
        "        for teacher_name, distance in teacher_distances:\n",
        "            if len(teacher_student_map[teacher_name]) < max_students_per_teacher:\n",
        "                teacher_student_map[teacher_name].append(student_name)\n",
        "                break\n",
        "            elif teacher_name == teacher_distances[-1][0]:\n",
        "                # Assign student to the least populated teacher if all closest teachers are full\n",
        "                min_students = float(\"inf\")\n",
        "                min_teacher = None\n",
        "                for t_name, t_students in teacher_student_map.items():\n",
        "                    if len(t_students) < min_students:\n",
        "                        min_students = len(t_students)\n",
        "                        min_teacher = t_name\n",
        "                teacher_student_map[min_teacher].append(student_name)\n",
        "                break\n",
        "\n",
        "        # Store the top_n_teachers for each student in student_teacher_map\n",
        "        student_teacher_map[student_name] = [teacher_name for teacher_name, _ in teacher_distances[:top_n_teachers]]\n",
        "\n",
        "    return teacher_student_map, student_teacher_map\n",
        "\n",
        "\n",
        "students = people_addresses_to_people_coordinates(student_addresses)\n",
        "teachers = people_addresses_to_people_coordinates(teacher_addresses)\n",
        "\n",
        "\n",
        "teacher_student_map, student_teacher_map = map_teachers_to_students(students, teachers)"
      ],
      "metadata": {
        "id": "CbDHKjDeb4V_"
      },
      "execution_count": null,
      "outputs": []
    },
    {
      "cell_type": "markdown",
      "source": [
        "# Outputs"
      ],
      "metadata": {
        "id": "GiLWLYnJ_m1Q"
      }
    },
    {
      "cell_type": "code",
      "source": [
        "pprint(teacher_student_map)\n",
        "print()\n",
        "pprint(student_teacher_map)"
      ],
      "metadata": {
        "id": "AlAKW7C7_qmP"
      },
      "execution_count": null,
      "outputs": []
    },
    {
      "cell_type": "markdown",
      "source": [
        "# Student and Teacher Map"
      ],
      "metadata": {
        "id": "UIxZzY0n-1vM"
      }
    },
    {
      "cell_type": "code",
      "source": [
        "import folium\n",
        "\n",
        "def plot_people_map(students, teachers):\n",
        "    # Calculate the map's initial center (average latitude and longitude)\n",
        "    center_lat = sum([coords[0] for coords in students.values()]) / len(students)\n",
        "    center_lon = sum([coords[1] for coords in students.values()]) / len(students)\n",
        "\n",
        "    m = folium.Map(location=[center_lat, center_lon], zoom_start=12)\n",
        "\n",
        "    # Add student markers\n",
        "    for student_name, student_coordinates in students.items():\n",
        "        folium.Marker(\n",
        "            location=student_coordinates,\n",
        "            popup=f\"{student_name}\",\n",
        "            icon=folium.Icon(color=\"blue\", icon=\"graduation-cap\", prefix=\"fa\")\n",
        "        ).add_to(m)\n",
        "\n",
        "    # Add teacher markers\n",
        "    for teacher_name, teacher_coordinates in teachers.items():\n",
        "        folium.Marker(\n",
        "            location=teacher_coordinates,\n",
        "            popup=f\"{teacher_name}\",\n",
        "            icon=folium.Icon(color=\"red\", icon=\"user\", prefix=\"fa\")\n",
        "        ).add_to(m)\n",
        "\n",
        "    return m\n",
        "\n",
        "people_map_plot = plot_people_map(students, teachers)\n",
        "people_map_plot\n"
      ],
      "metadata": {
        "id": "8cnp3snv-1vO"
      },
      "execution_count": null,
      "outputs": []
    },
    {
      "cell_type": "markdown",
      "source": [
        "# Class Map"
      ],
      "metadata": {
        "id": "_pJFOoFh-k43"
      }
    },
    {
      "cell_type": "code",
      "source": [
        "import folium\n",
        "\n",
        "def plot_class_map(students, teachers, teacher_student_map):\n",
        "    # Calculate the map's initial center (average latitude and longitude)\n",
        "    center_lat = sum([coords[0] for coords in students.values()]) / len(students)\n",
        "    center_lon = sum([coords[1] for coords in students.values()]) / len(students)\n",
        "\n",
        "    m = folium.Map(location=[center_lat, center_lon], zoom_start=12)\n",
        "\n",
        "    # Add student markers\n",
        "    for student_name, student_coordinates in students.items():\n",
        "        folium.Marker(\n",
        "            location=student_coordinates,\n",
        "            popup=f\"{student_name}\",\n",
        "            icon=folium.Icon(color=\"blue\", icon=\"graduation-cap\", prefix=\"fa\")\n",
        "        ).add_to(m)\n",
        "\n",
        "    # Add teacher markers\n",
        "    for teacher_name, teacher_coordinates in teachers.items():\n",
        "        folium.Marker(\n",
        "            location=teacher_coordinates,\n",
        "            popup=f\"{teacher_name}\",\n",
        "            icon=folium.Icon(color=\"red\", icon=\"user\", prefix=\"fa\")\n",
        "        ).add_to(m)\n",
        "\n",
        "    # Draw lines connecting students to their assigned teacher\n",
        "    for teacher_name, teacher_coordinates in teachers.items():\n",
        "        student_list = teacher_student_map[teacher_name]\n",
        "        for student_name in student_list:\n",
        "            student_coordinates = students[student_name]\n",
        "            folium.PolyLine(\n",
        "                locations=[teacher_coordinates, student_coordinates],\n",
        "                color=\"black\",\n",
        "                weight=1,\n",
        "                opacity=0.5\n",
        "            ).add_to(m)\n",
        "\n",
        "    return m\n",
        "\n",
        "class_map_plot = plot_class_map(students, teachers, teacher_student_map)\n",
        "class_map_plot\n"
      ],
      "metadata": {
        "id": "5B4Jx9ZG9eV2"
      },
      "execution_count": null,
      "outputs": []
    }
  ]
}